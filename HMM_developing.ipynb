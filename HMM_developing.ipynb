{
  "nbformat": 4,
  "nbformat_minor": 0,
  "metadata": {
    "colab": {
      "name": "HMM_developing.ipynb",
      "version": "0.3.2",
      "provenance": [],
      "include_colab_link": true
    },
    "kernelspec": {
      "name": "python3",
      "display_name": "Python 3"
    }
  },
  "cells": [
    {
      "cell_type": "markdown",
      "metadata": {
        "id": "view-in-github",
        "colab_type": "text"
      },
      "source": [
        "<a href=\"https://colab.research.google.com/github/prashankkadam/Markov_Models/blob/master/HMM_developing.ipynb\" target=\"_parent\"><img src=\"https://colab.research.google.com/assets/colab-badge.svg\" alt=\"Open In Colab\"/></a>"
      ]
    },
    {
      "cell_type": "code",
      "metadata": {
        "id": "B72UM--brEdT",
        "colab_type": "code",
        "colab": {}
      },
      "source": [
        "import numpy as np \n",
        "from hmmlearn import hmm\n",
        "\n",
        "np.random.seed(42)\n",
        "\n",
        "model = hmm.GaussianHMM(n_components=3, covariance_type=\"full\")\n",
        "model.startprob_ = np.array([0.6, 0.3, 0.1])\n",
        "model.transmat_ = np.array([[0.7, 0.2, 0.1],\n",
        "                           [0.3, 0.5, 0.2],\n",
        "                           [0.3, 0.3, 0.4]])\n",
        "model.means_ = np.array([[0.0, 0.0], [3.0, -3.0], [5.0, 10.0]])\n",
        "model.covars_ = np.tile(np.identity(2), (3, 1, 1))\n",
        "X, Z = model.sample(100)"
      ],
      "execution_count": 0,
      "outputs": []
    },
    {
      "cell_type": "code",
      "metadata": {
        "id": "-LO2Po2nxjYn",
        "colab_type": "code",
        "colab": {}
      },
      "source": [
        "lr = hmm.GaussianHMM(n_components=3, covariance_type=\"diag\",\n",
        "                      init_params=\"cm\", params=\"cmt\")\n",
        "lr.startprob_ = np.array([1.0, 0.0, 0.0])\n",
        "lr.transmat_ = np.array([[0.5, 0.5, 0.0],\n",
        "                          [0.0, 0.5, 0.5],\n",
        "                          [0.0, 0.0, 1.0]])"
      ],
      "execution_count": 0,
      "outputs": []
    }
  ]
}